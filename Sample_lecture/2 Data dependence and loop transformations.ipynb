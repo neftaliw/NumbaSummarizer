{
 "cells": [
  {
   "cell_type": "markdown",
   "metadata": {},
   "source": [
    "# Data Dependence\n",
    "\n",
    "Last week you learned the power of algorithm analysis. This week you learned how to use hardware performance tools to exploit even more powerful optimizations. Today we are going learn about loop optimizations. This type of analysis is specially powerful when dealing with scientific computing, the type of computing used for Machine Learning, Cryptography, Numerical computing, etc.\n",
    "\n",
    "Let's remember our loop from last session:"
   ]
  },
  {
   "cell_type": "code",
   "execution_count": 8,
   "metadata": {},
   "outputs": [],
   "source": [
    "from numba import jit, njit, prange\n",
    "import numpy as np\n",
    "@njit(parallel=True)\n",
    "def prange_dep_test(A):\n",
    "    s = 0\n",
    "    B=np.copy(A)\n",
    "    # Without \"parallel=True\" in the jit-decorator\n",
    "    # the prange statement is equivalent to range\n",
    "    for i in prange(1,B.shape[0]-1):\n",
    "        B[i]=B[i]+B[i+1]*B[i-1]\n",
    "        s += B[i]\n",
    "    return s\n",
    "def range_dep_test(A):\n",
    "    s=0\n",
    "    B=np.copy(A)\n",
    "    for i in range(1,B.shape[0]-1):\n",
    "        B[i]=B[i]+B[i+1]*B[i-1]\n",
    "        s += B[i]\n",
    "    return s"
   ]
  },
  {
   "cell_type": "code",
   "execution_count": 17,
   "metadata": {},
   "outputs": [],
   "source": [
    "B=np.random.rand(1000)"
   ]
  },
  {
   "cell_type": "code",
   "execution_count": 10,
   "metadata": {},
   "outputs": [
    {
     "data": {
      "text/plain": [
       "758.4462514693737"
      ]
     },
     "execution_count": 10,
     "metadata": {},
     "output_type": "execute_result"
    }
   ],
   "source": [
    "prange_dep_test(B)"
   ]
  },
  {
   "cell_type": "code",
   "execution_count": 11,
   "metadata": {},
   "outputs": [
    {
     "data": {
      "text/plain": [
       "1009.9344694314955"
      ]
     },
     "execution_count": 11,
     "metadata": {},
     "output_type": "execute_result"
    }
   ],
   "source": [
    "range_dep_test(B)"
   ]
  },
  {
   "cell_type": "markdown",
   "metadata": {},
   "source": [
    "The result is not the smae because there's a dependence in the line B\\[i]=B[i]+B[i+1]*B[i-1], let's see how this works.\n",
    "\n",
    "Imagine the array B as such:\n"
   ]
  },
  {
   "attachments": {},
   "cell_type": "markdown",
   "metadata": {},
   "source": [
    "<img src=\"images/5.3%20Array.png\">"
   ]
  },
  {
   "cell_type": "markdown",
   "metadata": {},
   "source": [
    "At iteration i=1, our line of code will try to access B\\[0] and B[2]"
   ]
  },
  {
   "attachments": {},
   "cell_type": "markdown",
   "metadata": {},
   "source": [
    "<img src=\"images/5.3%20Array%20with%20dependence.png\">"
   ]
  },
  {
   "cell_type": "markdown",
   "metadata": {},
   "source": [
    "If you notice carefully, by the time B\\[2] runs, B[1] has changed. However, if a parallel process runs B[2] before B[1] finishes, then the result will be different. We call this type of relationship DATA DEPENDENCE and we actually have three dependencies present in that single line of code:\n",
    "\n",
    "## Write after Read \n",
    "\n",
    "Write after Read (WAR) happens whenver a variable is written after it is read. For example:\n",
    "\n",
    "Y=X+1\n",
    "\n",
    "X=2\n",
    "\n",
    "\n",
    "This is a WAR dependence because X is read and then written. In our code we have 2 WAR dependencies, first the B[1]=B[1] part. Index one has to be read and then gets written. We represent that dependence as such: "
   ]
  },
  {
   "attachments": {},
   "cell_type": "markdown",
   "metadata": {},
   "source": [
    "<img src=\"images/5.3%20WAR.png\">"
   ]
  },
  {
   "cell_type": "markdown",
   "metadata": {},
   "source": [
    "Another WAR dependency is in the B\\[i]=...+B[i+1]..., since B[i+1] is read and then written in the following iteration. We represent that dependence as such: "
   ]
  },
  {
   "attachments": {},
   "cell_type": "markdown",
   "metadata": {},
   "source": [
    "<img src=\"images/5.3%20WAR2.png\">"
   ]
  },
  {
   "cell_type": "markdown",
   "metadata": {},
   "source": [
    "WAR dependence is also known as Anti-dependence or Forward dependence. It can easily be dealt with by copying the data from  B into a temporrary array and read from there. That will allow for full parallelism.\n",
    "\n",
    "## Read After Write\n",
    "\n",
    "Also known as RAW, Flow dependence, True dependence, Backwards dependence, and the mother of dependencies, breaker of loops, the unbroken, rightful Queen of all four dependencies. This is the most problematic and bothersome type of dependency. It happens when a variable is read after it is written, and it is usually impossible to deal with. For example:\n",
    "\n",
    "X=2\n",
    "\n",
    "Y=X+1\n",
    "\n",
    "You definitely can't execute the second statement without the first, and you cannot create a temporary array that holds X's value since you don't know what the new value is going to be.\n",
    "\n",
    "In our current loop, this dependence is present at the B\\[i]=..*B[i-1] and it is represented as such:"
   ]
  },
  {
   "attachments": {},
   "cell_type": "markdown",
   "metadata": {},
   "source": [
    "<img src=\"images/5.3%20RAW.png\">"
   ]
  },
  {
   "cell_type": "markdown",
   "metadata": {},
   "source": [
    "By now you should have figured out that there are two other dependencies for this group. You are partially correct, in third we have:\n",
    "\n",
    "## Write After Write\n",
    "\n",
    "Also known as WAW and Output Dependence, this happens when a variable is written after it is written. For example:\n",
    "\n",
    "1. B = 3\n",
    "2. A = B + 1\n",
    "3. B = 7\n",
    "\n",
    "B is written, then there's a RAW dependence between 1 and 2, and finally B get's rewritten. We don't have this type of dependence in our loop, and usually they don't cause much trouble unless there are other types of dependencies in between. If we remove line 2, the line 1 becomes useless as well.\n",
    "\n",
    "## Read after Read\n",
    "\n",
    "RAR is not really a dependence per se, it is much less relevant than WAW and will not impede parallelism whatsoever. For example:\n",
    "\n",
    "1. A=B\n",
    "2. C=B\n",
    "\n",
    "B is read twice, you can run both instructions in whichever order you desire.\n",
    "\n",
    "So we have covered all bases right?, no, there's is a fifth type of dependency, not part of this group of four, and is called:\n",
    "\n",
    "## Control dependence\n",
    "\n",
    "Control dependence is the type of dependence that happens specifically when an instruction depends on the outcome of another instruction for it to run. For example:\n",
    "\n",
    "1.         if (a == b)\n",
    "2.             a = a + b\n",
    "3.         b = a + b\n",
    "\n",
    "Line 2 depends on the outcome of line 1. We say that 2 has a control dependence on 1. Line 3 has no control dependence regardless what the outcome is, but it has a RAW dependence on 2 (and that is the bad one). Therefore, these statements depend completely on 1 to determine if they can be parallelized or not.\n",
    "\n",
    "There is a lot more information we could cover about dependencies, but I don't want to bore you. Instead, let's look at some of the ways we can deal with them.\n",
    "\n",
    "# Loop transformations\n",
    "\n",
    "Loop transformation is an optimization technique that allows us to deal with dependencies as well as optimize memory and CPU usage of our loops. There are 13 commonly know transformations, but today we will learn the simpler ones that you can implement on your own.\n",
    "\n",
    "## Loop invariant code motion\n",
    "\n",
    "This is the simplest optimization in our list. It basically looks for statements that have no effect in the result of the executing loop. For example:"
   ]
  },
  {
   "cell_type": "code",
   "execution_count": 18,
   "metadata": {},
   "outputs": [
    {
     "name": "stdout",
     "output_type": "stream",
     "text": [
      "499.4515580976372\n",
      "0.3514787023296213\n"
     ]
    }
   ],
   "source": [
    "x=0\n",
    "y=0\n",
    "C=np.copy(B)\n",
    "for i in range(1,B.shape[0]-1):\n",
    "    C[i]=B[i]+B[i+1]*B[i-1]\n",
    "    x=B[2]\n",
    "    y += B[i]\n",
    "print (y)\n",
    "print (x)"
   ]
  },
  {
   "cell_type": "markdown",
   "metadata": {},
   "source": [
    "Could be rewritten as:"
   ]
  },
  {
   "cell_type": "code",
   "execution_count": 19,
   "metadata": {},
   "outputs": [
    {
     "name": "stdout",
     "output_type": "stream",
     "text": [
      "499.4515580976372\n",
      "0.3514787023296213\n"
     ]
    }
   ],
   "source": [
    "x=0\n",
    "y=0\n",
    "for i in range(1,B.shape[0]-1):\n",
    "    C[i]=B[i]+B[i+1]*B[i-1]\n",
    "    y += B[i]\n",
    "x=B[2]\n",
    "print (y)\n",
    "print (x)"
   ]
  },
  {
   "cell_type": "markdown",
   "metadata": {},
   "source": [
    "That is because x=B\\[2] will be the same even if we execute it outside the loop.\n",
    "## Loop fission / Distribution\n",
    "Here we decompose the loop(s) into several loops. This tranformation may allow us to parallelize at least one of the loops. Therefore, the overall performance of the program should improve. Before looking into the example, let's build a function that will check that the output of the loop is the same. We call this function checksum:"
   ]
  },
  {
   "cell_type": "code",
   "execution_count": 37,
   "metadata": {},
   "outputs": [],
   "source": [
    "def checksum(array, N):\n",
    "    checksum = 0\n",
    "    for i in range(N):\n",
    "        for j in range(N):\n",
    "            checksum += array[i][j]\n",
    "    print(\"Checksum: \", checksum)\n",
    "    return\n",
    "\n",
    "N = 2000\n",
    "A = np.zeros((N,N))\n",
    "B = np.zeros((N,N))\n",
    "C = np.random.rand(N,N)\n",
    "D = np.random.rand(N,N)"
   ]
  },
  {
   "cell_type": "code",
   "execution_count": 56,
   "metadata": {},
   "outputs": [],
   "source": [
    "\n",
    "def loop1(N,A,B,C,D):\n",
    "    for i in range(1,N):\n",
    "        for j in range(1,N):\n",
    "            A[i][j] = C[i][j] + D[i][j]  # Statement 1\n",
    "            B[i][j] = A[i-1][j-1]*2.0    # Statement 2: (i,j) dependent on (i-1,j-1) - Can't be parallelized\n",
    "    return B"
   ]
  },
  {
   "cell_type": "code",
   "execution_count": 57,
   "metadata": {},
   "outputs": [
    {
     "name": "stdout",
     "output_type": "stream",
     "text": [
      "Wall time: 7.34 s\n"
     ]
    }
   ],
   "source": [
    "%%time\n",
    "B=loop1(N,A,B,C,D)"
   ]
  },
  {
   "cell_type": "code",
   "execution_count": 58,
   "metadata": {},
   "outputs": [
    {
     "name": "stdout",
     "output_type": "stream",
     "text": [
      "Checksum:  7985575.948992513\n"
     ]
    }
   ],
   "source": [
    "checksum(B,N) # check output"
   ]
  },
  {
   "cell_type": "code",
   "execution_count": 59,
   "metadata": {},
   "outputs": [],
   "source": [
    "\n",
    "# But this can be distributed\n",
    "\n",
    "def loop1_dist(N,A,B,C,D):\n",
    "    for i in range(1,N):\n",
    "        for j in range(1,N):\n",
    "            A[i][j] = C[i][j] + D[i][j]  # Statement 1 - Can be parallelized\n",
    "        \n",
    "    for i in range(1,N):\n",
    "        for j in range(1,N):      \n",
    "            B[i][j] = A[i-1][j-1]*2.0    # Statement 2: Can be parallelized\n",
    "    return B"
   ]
  },
  {
   "cell_type": "code",
   "execution_count": 60,
   "metadata": {},
   "outputs": [
    {
     "name": "stdout",
     "output_type": "stream",
     "text": [
      "Wall time: 7.27 s\n"
     ]
    }
   ],
   "source": [
    "%%time\n",
    "B=loop1_dist(N,A,B,C,D)"
   ]
  },
  {
   "cell_type": "code",
   "execution_count": 61,
   "metadata": {},
   "outputs": [
    {
     "name": "stdout",
     "output_type": "stream",
     "text": [
      "Checksum:  7985575.948992513\n"
     ]
    }
   ],
   "source": [
    "checksum(B,N) # check output again"
   ]
  },
  {
   "cell_type": "markdown",
   "metadata": {},
   "source": [
    "## Loop reversal\n",
    "\n",
    "This is another simple transformation that can help expose parallelism. It means that we can reverse the order of the loop to get rid of some kind of dependencies. You need to be very careful not to perform this transformation illegally. For example:"
   ]
  },
  {
   "cell_type": "code",
   "execution_count": 62,
   "metadata": {},
   "outputs": [],
   "source": [
    "def loop2(N,A,B,C,D):\n",
    "    for i in range(1,N):\n",
    "        for j in range(1,N):\n",
    "            A[i][j] = C[i][j] + D[i][j]  # Statement 1\n",
    "            B[i][j] = A[i][j]*2.0   \n",
    "    return B"
   ]
  },
  {
   "cell_type": "code",
   "execution_count": 63,
   "metadata": {},
   "outputs": [
    {
     "name": "stdout",
     "output_type": "stream",
     "text": [
      "Checksum:  7993501.31322485\n"
     ]
    }
   ],
   "source": [
    "B=loop2(N,A,B,C,D)\n",
    "checksum(B,N)"
   ]
  },
  {
   "cell_type": "code",
   "execution_count": 66,
   "metadata": {},
   "outputs": [],
   "source": [
    "def loop2_reversed(N,A,B,C,D):\n",
    "    for i in range(N-1,0,-1):\n",
    "        for j in range(1,N):\n",
    "            A[i][j] = C[i][j] + D[i][j]  # Statement 1\n",
    "            B[i][j] = A[i][j]*2.0   \n",
    "    return B"
   ]
  },
  {
   "cell_type": "code",
   "execution_count": 67,
   "metadata": {},
   "outputs": [
    {
     "name": "stdout",
     "output_type": "stream",
     "text": [
      "Checksum:  7993501.31322485\n"
     ]
    }
   ],
   "source": [
    "B=loop2_reversed(N,A,B,C,D)\n",
    "checksum(B,N)"
   ]
  },
  {
   "cell_type": "markdown",
   "metadata": {},
   "source": [
    "Both loops are the same (notice the difference in ranges). However, if there is cross dependence, this will fail.\n",
    "\n",
    "## Loop permutation / Interchange\n",
    "\n",
    "This transformation consists in exchanging the inner loop for the outer loop. For example:\n",
    "\n"
   ]
  },
  {
   "cell_type": "code",
   "execution_count": 74,
   "metadata": {},
   "outputs": [],
   "source": [
    "A = np.copy(C) # Copy original C into A"
   ]
  },
  {
   "cell_type": "code",
   "execution_count": 75,
   "metadata": {},
   "outputs": [
    {
     "name": "stdout",
     "output_type": "stream",
     "text": [
      "Wall time: 5.1 s\n"
     ]
    }
   ],
   "source": [
    "%%time\n",
    "for i in range(N-1):                   # Can't be parallelized\n",
    "    for j in range(N-1):               # Can be parallelized \n",
    "        C[i+1][j] = C[i][j] * D[i][j]  # Statement 1: (i+1,j) dependent on (i,j)"
   ]
  },
  {
   "cell_type": "code",
   "execution_count": 76,
   "metadata": {},
   "outputs": [
    {
     "name": "stdout",
     "output_type": "stream",
     "text": [
      "Checksum:  2944.474993104796\n"
     ]
    }
   ],
   "source": [
    "checksum(C,N) # check output"
   ]
  },
  {
   "cell_type": "code",
   "execution_count": 77,
   "metadata": {},
   "outputs": [],
   "source": [
    "C = np.copy(A) # Get original C values"
   ]
  },
  {
   "cell_type": "code",
   "execution_count": 78,
   "metadata": {},
   "outputs": [
    {
     "name": "stdout",
     "output_type": "stream",
     "text": [
      "Wall time: 5.28 s\n"
     ]
    }
   ],
   "source": [
    "%%time\n",
    "for j in range(N-1):                   # Can be parallelized\n",
    "    for i in range(N-1):               # Can't be parallelized \n",
    "        C[i+1][j] = C[i][j] * D[i][j]  # Statement 1: (i+1,j) dependent on (i,j)"
   ]
  },
  {
   "cell_type": "code",
   "execution_count": 79,
   "metadata": {},
   "outputs": [
    {
     "name": "stdout",
     "output_type": "stream",
     "text": [
      "Checksum:  2944.474993104796\n"
     ]
    }
   ],
   "source": [
    "checksum(C,N) # check output again"
   ]
  },
  {
   "cell_type": "markdown",
   "metadata": {},
   "source": [
    "This transformation can be done as long as there is no flow dependence in both dimensions (for 2D arrays). \n",
    "\n",
    "## Loop peeling / splitting\n",
    "\n",
    "Our last practical transformation is loop peeling. This is when a section of the loop is taken apart to run separately. Sometimes there's only a small section of the loop where dependencies are problematic, we can deal with them appropriately. For example:\n",
    "\n"
   ]
  },
  {
   "cell_type": "code",
   "execution_count": 83,
   "metadata": {},
   "outputs": [],
   "source": [
    "X=np.random.rand(1000)\n",
    "Y=np.copy(X)"
   ]
  },
  {
   "cell_type": "code",
   "execution_count": 84,
   "metadata": {},
   "outputs": [
    {
     "name": "stdout",
     "output_type": "stream",
     "text": [
      "0.3514787023296213\n"
     ]
    }
   ],
   "source": [
    "for i in range(1,X.shape[0]-1):\n",
    "    X[i]=X[i]*X[i-1]\n",
    "    X[2]=2*X[1]+X[2]\n",
    "print(np.sum(x))"
   ]
  },
  {
   "cell_type": "markdown",
   "metadata": {},
   "source": [
    "Notice that the second statement is only relevant for i=1 and i=2, after i=3 then it is invariant code. So we can proceed and split it like so:"
   ]
  },
  {
   "cell_type": "code",
   "execution_count": 85,
   "metadata": {},
   "outputs": [
    {
     "name": "stdout",
     "output_type": "stream",
     "text": [
      "0.3514787023296213\n"
     ]
    }
   ],
   "source": [
    "X=np.copy(Y) ##Restore original values of X\n",
    "for i in range(1,3):\n",
    "    X[i]=X[i]*X[i-1]\n",
    "    X[2]=2*X[1]+X[2]\n",
    "for i in range(3,X.shape[0]-1):\n",
    "    X[i]=X[i]*X[i-1]\n",
    "print(np.sum(x))"
   ]
  },
  {
   "cell_type": "markdown",
   "metadata": {},
   "source": [
    "Further inspection shows that This loop can be optimized further, but I will let you work on that on your own. Next section will show you three more optimizations that numba uses to optimize loops, as well as how to obtain information about dependencies present in a given loop."
   ]
  },
  {
   "cell_type": "code",
   "execution_count": null,
   "metadata": {},
   "outputs": [],
   "source": []
  }
 ],
 "metadata": {
  "kernelspec": {
   "display_name": "Python 3",
   "language": "python",
   "name": "python3"
  },
  "language_info": {
   "codemirror_mode": {
    "name": "ipython",
    "version": 3
   },
   "file_extension": ".py",
   "mimetype": "text/x-python",
   "name": "python",
   "nbconvert_exporter": "python",
   "pygments_lexer": "ipython3",
   "version": "3.7.3"
  }
 },
 "nbformat": 4,
 "nbformat_minor": 2
}
